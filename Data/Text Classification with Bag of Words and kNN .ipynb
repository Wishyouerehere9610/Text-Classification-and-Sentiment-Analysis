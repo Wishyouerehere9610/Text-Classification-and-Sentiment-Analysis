{
 "cells": [
  {
   "cell_type": "code",
   "execution_count": 40,
   "metadata": {},
   "outputs": [],
   "source": [
    "#import necessary package\n",
    "import re\n",
    "import os\n",
    "import numpy as np\n",
    "from collections import Counter\n",
    "from sklearn.feature_extraction.text import CountVectorizer\n",
    "\n",
    "stopword = ['ourselves', 'hers', 'between', 'yourself', 'but', 'again', 'there', \n",
    "'about', 'once', 'during', 'out', 'very', 'having', 'with', 'they', 'own', \n",
    "'an', 'be', 'some', 'for', 'do', 'its', 'yours', 'such', 'into', \n",
    "'of', 'most', 'itself', 'other', 'off', 'is', 's', 'am', 'or', \n",
    "'who', 'as', 'from', 'him', 'each', 'the', 'themselves', 'until', \n",
    "'below', 'are', 'we', 'these', 'your', 'his', 'through', 'don', 'nor', \n",
    "'me', 'were', 'her', 'more', 'himself', 'this', 'down', 'should', 'our', \n",
    "'their', 'while', 'above', 'both', 'up', 'to', 'ours', 'had', 'she', 'all', \n",
    "'no', 'when', 'at', 'any', 'before', 'them', 'same', 'and', 'been', 'have', \n",
    "'in', 'will', 'on', 'does', 'yourselves', 'then', 'that', 'because', \n",
    "'what', 'over', 'why', 'so', 'can', 'did', 'not', 'now', 'under', 'he', \n",
    "'you', 'herself', 'has', 'just', 'where', 'too', 'only', 'myself', \n",
    "'which', 'those', 'i', 'after', 'few', 'whom', 't', 'being', 'if', \n",
    "'theirs', 'my', 'against', 'a', 'by', 'doing', 'it', 'how', \n",
    "'further', 'was', 'here', 'than','shes','']"
   ]
  },
  {
   "cell_type": "code",
   "execution_count": 41,
   "metadata": {},
   "outputs": [],
   "source": [
    "#Function template function voc = buildVoc(folder, voc);\n",
    "#Inputs:\n",
    "#a folder is a folder path, which contains training data\n",
    "#b voc is a cell array to which the vocabulary is added so you can build a single lexicon for a set of\n",
    "#folders, the first time you call the fun voc is an empty cell array { }\n",
    "def buildVoc(folderpath,voc):\n",
    "\n",
    "    for filename in os.listdir(folderpath):\n",
    "        if filename.endswith(\".txt\"):\n",
    "            review=[]\n",
    "            filepath = folderpath + filename\n",
    "            f=open(filepath,'r')\n",
    "            review.append(f.read())\n",
    "            review[0] = re.sub(r'[^\\w\\s]','',review[0])\n",
    "            #lowercase all words\n",
    "            review[0]=review[0].lower()\n",
    "            split_review = review[0].split()\n",
    "            #get ride of stop words\n",
    "            stop_result=[]\n",
    "            for item in split_review:\n",
    "                if item not in stopword:\n",
    "                    stop_result.append(item)\n",
    "            removed_review = ' '.join(map(str,stop_result))\n",
    "            parse_review=removed_review.split()\n",
    "            c=Counter(parse_review)\n",
    "            threshold = 2\n",
    "            # result=[]\n",
    "            for i in c.items():\n",
    "                if i[1] > threshold:\n",
    "                    voc.append(i[0])\n",
    "            # voc.append(result)\n",
    "    return voc"
   ]
  },
  {
   "cell_type": "code",
   "execution_count": 42,
   "metadata": {},
   "outputs": [],
   "source": [
    "train_neg_voc=buildVoc('kNN/training/neg/', [])\n",
    "train_pos_voc=buildVoc('kNN/training/pos/', [])\n",
    "voc=train_neg_voc+train_pos_voc"
   ]
  },
  {
   "cell_type": "code",
   "execution_count": 43,
   "metadata": {
    "scrolled": true
   },
   "outputs": [
    {
     "output_type": "execute_result",
     "data": {
      "text/plain": [
       "2683"
      ]
     },
     "metadata": {},
     "execution_count": 43
    }
   ],
   "source": [
    "len(train_voc)"
   ]
  },
  {
   "cell_type": "code",
   "execution_count": 55,
   "metadata": {},
   "outputs": [],
   "source": [
    "def feature_extrction(filepath, voc):\n",
    "    feature=[]\n",
    "    review=[]\n",
    "    f=open(filepath,'r')\n",
    "    review.append(f.read())\n",
    "    review[0] = re.sub(r'[^\\w\\s]','',review[0])\n",
    "    #lowercase all words\n",
    "    review[0]=review[0].lower()\n",
    "    split_review = review[0].split()\n",
    "    #get ride of stop words\n",
    "    stop_result=[]\n",
    "    for item in split_review:\n",
    "        if item not in stopword:\n",
    "            stop_result.append(item)\n",
    "    removed_review = ' '.join(map(str,stop_result))\n",
    "    parse_review=removed_review.split()\n",
    "    print(parse_review)\n",
    "    feat_vec = []\n",
    "    for item in parse_review:\n",
    "        if item in voc:\n",
    "            feat_vec.append(voc.index(item))\n",
    "\n",
    "    # c = Counter(parse_review)\n",
    "    # for i in c.items():\n",
    "    #     if i[1]>2:\n",
    "    #         feature.append(i[1])\n",
    "    \n",
    "    return feature"
   ]
  },
  {
   "cell_type": "code",
   "execution_count": 56,
   "metadata": {},
   "outputs": [
    {
     "output_type": "stream",
     "name": "stdout",
     "text": [
      "['lake', 'placid', 'marks', 'yet', 'another', 'entry', 'series', 'predator', 'pics', 'screen', 'staple', 'late', '1970s', 'post', 'jaws', 'revived', 'recently', 'godawful', 'anaconda', 'placid', 'claims', 'horrorcomedy', 'directed', 'guy', 'house', 'attempts', 'humor', 'actually', 'less', 'funny', 'deadpan', 'seriousness', 'anaconda', 'paleontologist', 'kelly', 'scott', 'bridget', 'fonda', 'sent', 'maine', 'examine', 'tooth', 'removed', 'body', 'bitten', 'half', 'lake', 'discovering', 'tooth', 'belongs', 'crocodile', 'shouldnt', 'even', 'hemisphere', 'kelly', 'goes', 'crochunting', 'game', 'warden', 'jack', 'wells', 'bill', 'pullman', 'sheriff', 'hank', 'keough', 'brendan', 'gleeson', 'theyre', 'joined', 'unwelcome', 'guest', 'hector', 'cyr', 'oliver', 'platt', 'scholar', 'worships', 'crocs', 'searches', 'world', 'along', 'way', 'merry', 'band', 'meets', 'mrs', 'delores', 'bickerman', 'betty', 'white', 'weird', 'old', 'lady', 'lives', 'lake', 'know', 'expect', 'movie', 'lots', 'shots', 'camera', 'eyes', 'predator', 'croc', 'cam', 'swimming', 'toward', 'someones', 'dangling', 'legs', 'jaws', 'like', 'music', 'plays', 'one', 'character', 'hector', 'whos', 'obsessed', 'croc', 'stupidly', 'endangers', 'rest', 'another', 'character', 'insists', 'predator', 'cant', 'possibly', 'exist', 'unlike', 'slippery', 'cousin', 'anaconda', 'lake', 'placid', 'wants', 'present', 'formulaic', 'plot', 'tongueincheek', 'selfdefeating', 'result', 'neither', 'scary', 'funny', 'tedious', 'director', 'steve', 'miner', 'several', 'horror', 'films', 'resume', 'including', 'two', 'installments', 'friday', '13th', 'halloween', 'h20', 'screenwriter', 'david', 'kelley', 'best', 'known', 'creator', 'tv', 'series', 'like', 'ally', 'mcbeal', 'chicago', 'hope', 'doesnt', 'seem', 'stomach', 'chomp', 'em', 'flick', 'body', 'count', 'surprisingly', 'low', 'doesnt', 'include', 'major', 'characters', 'annoyingly', 'kelly', 'hector', 'insist', 'capture', 'crocodile', 'alive', 'rather', 'killing', 'lake', 'placid', 'manages', 'waysill', 'let', 'discover', 'croc', 'mostly', 'computergenerated', 'course', 'like', 'snake', 'anaconda', 'thirtyfoot', 'monster', 'crocodile', 'doesnt', 'seem', 'real', 'moves', 'quickly', 'ways', 'seem', 'unnatural', 'lake', 'placid', 'also', 'offers', 'little', 'explanation', 'giant', 'crocodile', 'maine', 'lot', 'semimystical', 'mumbo', 'jumbo', 'really', 'dont', 'know', 'much', 'crocodiles', 'would', 'better', 'going', 'something', 'like', 'urban', 'myth', 'alligators', 'sewers', 'movie', 'like', 'doesnt', 'offer', 'much', 'explanation', 'radioactive', 'mutant', 'creature', 'outer', 'space', 'give', 'audience', 'something', 'hang', 'disbelief', 'pullman', 'fonda', 'seem', 'plodding', 'movie', 'autopilot', 'time', 'theyre', 'probably', 'thinking', 'killing', 'agents', 'wondering', 'making', 'movie', 'marks', 'end', 'careers', 'platt', 'white', 'hand', 'seem', 'giving', 'best', 'efforts', 'manage', 'squeeze', 'chuckles', 'sorry', 'script', 'training', 'vocabcdefgz', 'filepathacdee', '11122']\n"
     ]
    },
    {
     "output_type": "execute_result",
     "data": {
      "text/plain": [
       "[]"
      ]
     },
     "metadata": {},
     "execution_count": 56
    }
   ],
   "source": [
    "feature_extrction('kNN/training/neg/cv037_19798.txt', train_voc)"
   ]
  },
  {
   "cell_type": "code",
   "execution_count": null,
   "metadata": {},
   "outputs": [],
   "source": []
  }
 ],
 "metadata": {
  "kernelspec": {
   "display_name": "Python 3",
   "language": "python",
   "name": "python3"
  },
  "language_info": {
   "codemirror_mode": {
    "name": "ipython",
    "version": 3
   },
   "file_extension": ".py",
   "mimetype": "text/x-python",
   "name": "python",
   "nbconvert_exporter": "python",
   "pygments_lexer": "ipython3",
   "version": "3.8.5-final"
  }
 },
 "nbformat": 4,
 "nbformat_minor": 2
}